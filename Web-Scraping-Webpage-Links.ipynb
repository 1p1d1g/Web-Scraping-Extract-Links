{
 "cells": [
  {
   "cell_type": "code",
   "execution_count": 6,
   "metadata": {},
   "outputs": [
    {
     "name": "stdout",
     "output_type": "stream",
     "text": [
      "Enter a website to extract the URL's from: www.facebook.com\n",
      "#\n",
      "#\n",
      "https://www.facebook.com/\n",
      "https://www.facebook.com/recover/initiate?lwv=110\n",
      "#\n",
      "/legal/terms\n",
      "/policies/cookies/\n",
      "/about/privacy\n",
      "#\n",
      "#\n",
      "#\n",
      "#\n",
      "#\n",
      "/pages/create/?ref_type=registration_form\n",
      "https://pa-in.facebook.com/\n",
      "https://ur-pk.facebook.com/\n",
      "https://gu-in.facebook.com/\n",
      "https://bn-in.facebook.com/\n",
      "https://ta-in.facebook.com/\n",
      "https://te-in.facebook.com/\n",
      "https://ml-in.facebook.com/\n",
      "https://kn-in.facebook.com/\n",
      "https://en-gb.facebook.com/\n",
      "https://es-la.facebook.com/\n",
      "#\n",
      "/r.php\n",
      "/login/\n",
      "https://messenger.com/\n",
      "/lite/\n",
      "/mobile/?ref=pf\n",
      "/find-friends?ref=pf\n",
      "/directory/people/\n",
      "/directory/pages/\n",
      "/places/\n",
      "/games/\n",
      "/directory/places/\n",
      "/directory/celebrities/\n",
      "/directory/marketplace/\n",
      "/directory/groups/\n",
      "/recipes/\n",
      "/sport/\n",
      "/look/directory/\n",
      "http://l.facebook.com/l.php?u=http%3A%2F%2Fmomentsapp.com%2F&h=ATMApwMNvc-9lx-9BarwKQhYxFZQXnidq69_1ZLsLw-3Sl4i-g9hRDKVIjkS9xc8GNkVJlaNz-PLgZ14gvTCeIYMJc1BC6VaEipmVQ\n",
      "https://l.facebook.com/l.php?u=https%3A%2F%2Finstagram.com%2F&h=ATNRUKkb0N_O-8wA2hJ8MZ0LJMRjXbzoVU92HGgN-1LOENbpwDhbC3twF0nYdsIm29NOdr_rsTThFoKthEBjiLyy5_oIpxyaoaopQg\n",
      "/local/lists/245019872666104/\n",
      "/facebook\n",
      "/campaign/landing.php?placement=pflo&campaign_id=402047449186&extra_1=auto\n",
      "/pages/create/?ref_type=sitefooter\n",
      "https://developers.facebook.com/?ref=pf\n",
      "/careers/?ref=pf\n",
      "/privacy/explanation\n",
      "/policies/cookies/\n",
      "https://www.facebook.com/help/568137493302217\n",
      "/policies?ref=pf\n",
      "/help/?ref=pf\n",
      "/settings\n",
      "/allactivity?privacy_source=activity_log_top_menu\n"
     ]
    }
   ],
   "source": [
    "from bs4 import BeautifulSoup\n",
    "import requests\n",
    "\n",
    "url = input(\"Enter a website to extract the URL's from: \")\n",
    "r = requests.get(\"http://\" + url)\n",
    "\n",
    "data = r.text\n",
    "\n",
    "soup = BeautifulSoup(data,\"lxml\")\n",
    "\n",
    "for link in soup.find_all('a'):\n",
    "    print(link.get('href'))"
   ]
  },
  {
   "cell_type": "code",
   "execution_count": null,
   "metadata": {
    "collapsed": true
   },
   "outputs": [],
   "source": []
  },
  {
   "cell_type": "code",
   "execution_count": null,
   "metadata": {
    "collapsed": true
   },
   "outputs": [],
   "source": []
  }
 ],
 "metadata": {
  "kernelspec": {
   "display_name": "Python 3",
   "language": "python",
   "name": "python3"
  }
 },
 "nbformat": 4,
 "nbformat_minor": 2
}
